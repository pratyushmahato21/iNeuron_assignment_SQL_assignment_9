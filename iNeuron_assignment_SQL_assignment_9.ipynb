{
 "cells": [
  {
   "cell_type": "markdown",
   "id": "d3f398f3",
   "metadata": {},
   "source": [
    "Q-17. Write an SQL query to show the top n (say 10) records of a table."
   ]
  },
  {
   "cell_type": "markdown",
   "id": "d50272b6",
   "metadata": {},
   "source": [
    "SELECT TOP 10 * FROM WORKER;"
   ]
  },
  {
   "cell_type": "markdown",
   "id": "2c2263b5",
   "metadata": {},
   "source": [
    "Q-18. Write an SQL query to determine the nth (say n=5) highest salary from a table."
   ]
  },
  {
   "cell_type": "markdown",
   "id": "bb72eaa0",
   "metadata": {},
   "source": [
    "SELECT * FROM \n",
    "(SELECT ROW_NUMBER() OVER (ORDER BY salary DESC) AS SNo, emp_no,salary, full_name FROM WORKER) AS new_table\n",
    "WHERE new_table.SNo = 5;"
   ]
  },
  {
   "cell_type": "code",
   "execution_count": null,
   "id": "60b43d5e",
   "metadata": {},
   "outputs": [],
   "source": []
  }
 ],
 "metadata": {
  "kernelspec": {
   "display_name": "Python 3 (ipykernel)",
   "language": "python",
   "name": "python3"
  },
  "language_info": {
   "codemirror_mode": {
    "name": "ipython",
    "version": 3
   },
   "file_extension": ".py",
   "mimetype": "text/x-python",
   "name": "python",
   "nbconvert_exporter": "python",
   "pygments_lexer": "ipython3",
   "version": "3.8.12"
  }
 },
 "nbformat": 4,
 "nbformat_minor": 5
}
